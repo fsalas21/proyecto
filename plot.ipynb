{
 "cells": [
  {
   "cell_type": "code",
   "execution_count": 172,
   "metadata": {},
   "outputs": [],
   "source": [
    "import matplotlib.pyplot as plt\n",
    "import numpy as np\n",
    "from os import listdir\n",
    "from os.path import isfile, join\n",
    "import imageio"
   ]
  },
  {
   "cell_type": "code",
   "execution_count": 173,
   "metadata": {},
   "outputs": [
    {
     "data": {
      "text/plain": [
       "['transmition_CPU_000.txt',\n",
       " 'transmition_CPU_001.txt',\n",
       " 'transmition_CPU_002.txt',\n",
       " 'transmition_CPU_003.txt',\n",
       " 'transmition_CPU_004.txt',\n",
       " 'transmition_CPU_005.txt',\n",
       " 'transmition_CPU_006.txt',\n",
       " 'transmition_CPU_007.txt',\n",
       " 'transmition_CPU_008.txt',\n",
       " 'transmition_CPU_009.txt',\n",
       " 'transmition_CPU_010.txt',\n",
       " 'transmition_CPU_011.txt',\n",
       " 'transmition_CPU_012.txt',\n",
       " 'transmition_CPU_013.txt',\n",
       " 'transmition_CPU_014.txt',\n",
       " 'transmition_CPU_015.txt',\n",
       " 'transmition_CPU_016.txt',\n",
       " 'transmition_CPU_017.txt',\n",
       " 'transmition_CPU_018.txt',\n",
       " 'transmition_CPU_019.txt',\n",
       " 'transmition_CPU_020.txt',\n",
       " 'transmition_CPU_021.txt',\n",
       " 'transmition_CPU_022.txt',\n",
       " 'transmition_CPU_023.txt',\n",
       " 'transmition_CPU_024.txt',\n",
       " 'transmition_CPU_025.txt',\n",
       " 'transmition_CPU_026.txt',\n",
       " 'transmition_CPU_027.txt',\n",
       " 'transmition_CPU_028.txt',\n",
       " 'transmition_CPU_029.txt',\n",
       " 'transmition_CPU_030.txt',\n",
       " 'transmition_CPU_031.txt',\n",
       " 'transmition_CPU_032.txt',\n",
       " 'transmition_CPU_033.txt',\n",
       " 'transmition_CPU_034.txt',\n",
       " 'transmition_CPU_035.txt',\n",
       " 'transmition_CPU_036.txt',\n",
       " 'transmition_CPU_037.txt',\n",
       " 'transmition_CPU_038.txt',\n",
       " 'transmition_CPU_039.txt',\n",
       " 'transmition_CPU_040.txt',\n",
       " 'transmition_CPU_041.txt',\n",
       " 'transmition_CPU_042.txt',\n",
       " 'transmition_CPU_043.txt',\n",
       " 'transmition_CPU_044.txt',\n",
       " 'transmition_CPU_045.txt',\n",
       " 'transmition_CPU_046.txt',\n",
       " 'transmition_CPU_047.txt',\n",
       " 'transmition_CPU_048.txt',\n",
       " 'transmition_CPU_049.txt',\n",
       " 'transmition_CPU_050.txt']"
      ]
     },
     "execution_count": 173,
     "metadata": {},
     "output_type": "execute_result"
    }
   ],
   "source": [
    "onlyfiles = [f for f in listdir(\"archivos\") if isfile(join(\"archivos\", f))]\n",
    "\n",
    "cpu_file = [cpu for cpu in onlyfiles if \"CPU\" in cpu]\n",
    "gpu_file = [gpu for gpu in onlyfiles if \"GPU\" in gpu]\n",
    "\n",
    "def heatmap2d(arr: np.ndarray, savename):\n",
    "    plt.imshow(arr, cmap='viridis')\n",
    "    plt.colorbar()\n",
    "    plt.savefig(savename)\n",
    "    plt.close()\n",
    "\n",
    "cpu_file"
   ]
  },
  {
   "cell_type": "code",
   "execution_count": 174,
   "metadata": {},
   "outputs": [],
   "source": [
    "for cpu_data in cpu_file:\n",
    "    filename = \"archivos/\" + cpu_data\n",
    "    savename = filename.replace(\"txt\", \"png\").replace(\"archivos\", \"images\")\n",
    "    data = np.loadtxt(filename, dtype=float)\n",
    "    heatmap2d(data, savename)"
   ]
  },
  {
   "cell_type": "code",
   "execution_count": 175,
   "metadata": {},
   "outputs": [],
   "source": [
    "# for gpu_data in gpu_file:\n",
    "#     filename = \"archivos/\" + gpu_data\n",
    "#     savename = filename.replace(\"txt\", \"png\").replace(\"archivos\", \"images\")\n",
    "#     data = np.loadtxt(filename, dtype=float)\n",
    "#     heatmap2d(data, savename)"
   ]
  },
  {
   "cell_type": "code",
   "execution_count": 176,
   "metadata": {},
   "outputs": [
    {
     "data": {
      "text/plain": [
       "['transmition_CPU_000.png',\n",
       " 'transmition_CPU_001.png',\n",
       " 'transmition_CPU_002.png',\n",
       " 'transmition_CPU_003.png',\n",
       " 'transmition_CPU_004.png',\n",
       " 'transmition_CPU_005.png',\n",
       " 'transmition_CPU_006.png',\n",
       " 'transmition_CPU_007.png',\n",
       " 'transmition_CPU_008.png',\n",
       " 'transmition_CPU_009.png',\n",
       " 'transmition_CPU_010.png',\n",
       " 'transmition_CPU_011.png',\n",
       " 'transmition_CPU_012.png',\n",
       " 'transmition_CPU_013.png',\n",
       " 'transmition_CPU_014.png',\n",
       " 'transmition_CPU_015.png',\n",
       " 'transmition_CPU_016.png',\n",
       " 'transmition_CPU_017.png',\n",
       " 'transmition_CPU_018.png',\n",
       " 'transmition_CPU_019.png',\n",
       " 'transmition_CPU_020.png',\n",
       " 'transmition_CPU_021.png',\n",
       " 'transmition_CPU_022.png',\n",
       " 'transmition_CPU_023.png',\n",
       " 'transmition_CPU_024.png',\n",
       " 'transmition_CPU_025.png',\n",
       " 'transmition_CPU_026.png',\n",
       " 'transmition_CPU_027.png',\n",
       " 'transmition_CPU_028.png',\n",
       " 'transmition_CPU_029.png',\n",
       " 'transmition_CPU_030.png',\n",
       " 'transmition_CPU_031.png',\n",
       " 'transmition_CPU_032.png',\n",
       " 'transmition_CPU_033.png',\n",
       " 'transmition_CPU_034.png',\n",
       " 'transmition_CPU_035.png',\n",
       " 'transmition_CPU_036.png',\n",
       " 'transmition_CPU_037.png',\n",
       " 'transmition_CPU_038.png',\n",
       " 'transmition_CPU_039.png',\n",
       " 'transmition_CPU_040.png',\n",
       " 'transmition_CPU_041.png',\n",
       " 'transmition_CPU_042.png',\n",
       " 'transmition_CPU_043.png',\n",
       " 'transmition_CPU_044.png',\n",
       " 'transmition_CPU_045.png',\n",
       " 'transmition_CPU_046.png',\n",
       " 'transmition_CPU_047.png',\n",
       " 'transmition_CPU_048.png',\n",
       " 'transmition_CPU_049.png',\n",
       " 'transmition_CPU_050.png']"
      ]
     },
     "execution_count": 176,
     "metadata": {},
     "output_type": "execute_result"
    }
   ],
   "source": [
    "png_files = [f for f in listdir(\"images\") if isfile(join(\"images\", f))]\n",
    "\n",
    "cpu_png = [cpu for cpu in png_files if \"CPU\" in cpu]\n",
    "# gpu_png = [gpu for gpu in png_files if \"GPU\" in gpu]\n",
    "\n",
    "cpu_png"
   ]
  },
  {
   "cell_type": "code",
   "execution_count": 177,
   "metadata": {},
   "outputs": [],
   "source": [
    "with imageio.get_writer('cpu_gif.gif', mode='I') as writer:\n",
    "    for filename in cpu_png:\n",
    "        image = imageio.imread('images/'+filename)\n",
    "        writer.append_data(image)"
   ]
  }
 ],
 "metadata": {
  "interpreter": {
   "hash": "dade199395e01e5eb27971d645644386cdc8ca2c74681a48d0c5f9d8116178e1"
  },
  "kernelspec": {
   "display_name": "Python 3.9.5 64-bit",
   "language": "python",
   "name": "python3"
  },
  "language_info": {
   "codemirror_mode": {
    "name": "ipython",
    "version": 3
   },
   "file_extension": ".py",
   "mimetype": "text/x-python",
   "name": "python",
   "nbconvert_exporter": "python",
   "pygments_lexer": "ipython3",
   "version": "3.9.5"
  },
  "orig_nbformat": 4
 },
 "nbformat": 4,
 "nbformat_minor": 2
}
