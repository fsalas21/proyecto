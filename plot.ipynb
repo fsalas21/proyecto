{
 "cells": [
  {
   "cell_type": "code",
   "execution_count": 34,
   "metadata": {},
   "outputs": [],
   "source": [
    "import matplotlib.pyplot as plt\n",
    "import numpy as np\n",
    "from os import listdir\n",
    "from os.path import isfile, join\n",
    "import imageio"
   ]
  },
  {
   "cell_type": "code",
   "execution_count": 35,
   "metadata": {},
   "outputs": [],
   "source": [
    "onlyfiles_cpu = [f for f in listdir(\"archivos/CPU/\") if isfile(join(\"archivos/CPU/\", f))]\n",
    "onlyfiles_K1 = [f for f in listdir(\"archivos/GPU/K1/\") if isfile(join(\"archivos/GPU/K1/\", f))]\n",
    "onlyfiles_K2 = [f for f in listdir(\"archivos/GPU/K2/\") if isfile(join(\"archivos/GPU/k2/\", f))]\n",
    "\n",
    "cpu_file = [cpu for cpu in onlyfiles_cpu if \"CPU\" in cpu]\n",
    "K1_file = [gpu for gpu in onlyfiles_K1 if \"GPU\" in gpu]\n",
    "K2_file = [gpu for gpu in onlyfiles_K2 if \"GPU\" in gpu]\n",
    "\n",
    "def heatmap2d(arr: np.ndarray, savename):\n",
    "    plt.imshow(arr, cmap='viridis')\n",
    "    plt.colorbar()\n",
    "    plt.savefig(savename)\n",
    "    plt.close()"
   ]
  },
  {
   "cell_type": "code",
   "execution_count": 36,
   "metadata": {},
   "outputs": [],
   "source": [
    "for cpu_data in cpu_file:\n",
    "    filename = \"archivos/CPU/\" + cpu_data\n",
    "    savename = filename.replace(\"txt\", \"png\").replace(\"archivos\", \"images\")\n",
    "    data = np.loadtxt(filename, dtype=float)\n",
    "    heatmap2d(data, savename)"
   ]
  },
  {
   "cell_type": "code",
   "execution_count": 37,
   "metadata": {},
   "outputs": [],
   "source": [
    "for gpu_data in K1_file:\n",
    "    filename = \"archivos/GPU/K1/\" + gpu_data\n",
    "    savename = filename.replace(\"txt\", \"png\").replace(\"archivos\", \"images\")\n",
    "    data = np.loadtxt(filename, dtype=float)\n",
    "    heatmap2d(data, savename)"
   ]
  },
  {
   "cell_type": "code",
   "execution_count": 38,
   "metadata": {},
   "outputs": [],
   "source": [
    "for gpu_data in K2_file:\n",
    "    filename = \"archivos/GPU/K2/\" + gpu_data\n",
    "    savename = filename.replace(\"txt\", \"png\").replace(\"archivos\", \"images\")\n",
    "    data = np.loadtxt(filename, dtype=float)\n",
    "    heatmap2d(data, savename)"
   ]
  },
  {
   "cell_type": "code",
   "execution_count": 39,
   "metadata": {},
   "outputs": [],
   "source": [
    "png_files_cpu = [f for f in listdir(\"images/CPU/\") if isfile(join(\"images/CPU\", f))]\n",
    "png_files_gpu_K1 = [f for f in listdir(\"images/GPU/K1/\") if isfile(join(\"images/GPU/K1/\", f))]\n",
    "png_files_gpu_K2 = [f for f in listdir(\"images/GPU/K2/\") if isfile(join(\"images/GPU/K2/\", f))]\n",
    "\n",
    "cpu_png = [cpu for cpu in png_files_cpu if \"CPU\" in cpu]\n",
    "gpu_png_K1 = [gpu for gpu in png_files_gpu_K1 if \"GPU\" in gpu]\n",
    "gpu_png_K2 = [gpu for gpu in png_files_gpu_K2 if \"GPU\" in gpu]"
   ]
  },
  {
   "cell_type": "code",
   "execution_count": 40,
   "metadata": {},
   "outputs": [],
   "source": [
    "with imageio.get_writer('GIFs/gpu_K1_gif.gif', mode='I') as writer:\n",
    "    for filename in gpu_png_K1:\n",
    "        image = imageio.imread('images/GPU/K1/'+filename)\n",
    "        writer.append_data(image)"
   ]
  },
  {
   "cell_type": "code",
   "execution_count": 41,
   "metadata": {},
   "outputs": [],
   "source": [
    "with imageio.get_writer('GIFs/gpu_K2_gif.gif', mode='I') as writer:\n",
    "    for filename in gpu_png_K2:\n",
    "        image = imageio.imread('images/GPU/K2/'+filename)\n",
    "        writer.append_data(image)"
   ]
  },
  {
   "cell_type": "code",
   "execution_count": 42,
   "metadata": {},
   "outputs": [],
   "source": [
    "with imageio.get_writer('GIFs/cpu_gif.gif', mode='I') as writer:\n",
    "    for filename in cpu_png:\n",
    "        image = imageio.imread('images/CPU/'+filename)\n",
    "        writer.append_data(image)"
   ]
  }
 ],
 "metadata": {
  "interpreter": {
   "hash": "dade199395e01e5eb27971d645644386cdc8ca2c74681a48d0c5f9d8116178e1"
  },
  "kernelspec": {
   "display_name": "Python 3.9.5 64-bit",
   "language": "python",
   "name": "python3"
  },
  "language_info": {
   "codemirror_mode": {
    "name": "ipython",
    "version": 3
   },
   "file_extension": ".py",
   "mimetype": "text/x-python",
   "name": "python",
   "nbconvert_exporter": "python",
   "pygments_lexer": "ipython3",
   "version": "3.10.1"
  },
  "orig_nbformat": 4
 },
 "nbformat": 4,
 "nbformat_minor": 2
}
